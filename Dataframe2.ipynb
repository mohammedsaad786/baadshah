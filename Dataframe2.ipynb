{
 "cells": [
  {
   "cell_type": "code",
   "execution_count": 1,
   "id": "ff089f05-9236-471b-b55b-78f6b651272b",
   "metadata": {},
   "outputs": [
    {
     "name": "stdout",
     "output_type": "stream",
     "text": [
      "Original DataFrame 1:\n",
      "      Name  Salary\n",
      "0     John   50000\n",
      "1    Alice   60000\n",
      "2      Bob   55000\n",
      "3      Eve   70000\n",
      "4  Charlie   65000\n",
      "\n",
      "Original DataFrame 2:\n",
      "     Name  Salary\n",
      "0   David   72000\n",
      "1    Ella   48000\n",
      "2   Frank   51000\n",
      "3   Grace   78000\n",
      "4  Hannah   62000\n",
      "\n",
      "Updated DataFrame 1 with Bonus:\n",
      "      Name  Salary\n",
      "0     John   55000\n",
      "1    Alice   65000\n",
      "2      Bob   60000\n",
      "3      Eve   75000\n",
      "4  Charlie   70000\n",
      "\n",
      "Updated DataFrame 2 with Bonus:\n",
      "     Name  Salary\n",
      "0   David   77000\n",
      "1    Ella   53000\n",
      "2   Frank   56000\n",
      "3   Grace   83000\n",
      "4  Hannah   67000\n"
     ]
    }
   ],
   "source": [
    "import pandas as pd\n",
    "\n",
    "# Create two dataframes for the salary of five employees\n",
    "data1 = {\n",
    "    'Name': ['John', 'Alice', 'Bob', 'Eve', 'Charlie'],\n",
    "    'Salary': [50000, 60000, 55000, 70000, 65000]\n",
    "}\n",
    "\n",
    "data2 = {\n",
    "    'Name': ['David', 'Ella', 'Frank', 'Grace', 'Hannah'],\n",
    "    'Salary': [72000, 48000, 51000, 78000, 62000]\n",
    "}\n",
    "\n",
    "df1 = pd.DataFrame(data1)\n",
    "df2 = pd.DataFrame(data2)\n",
    "\n",
    "# Display both dataframes\n",
    "print(\"Original DataFrame 1:\")\n",
    "print(df1)\n",
    "print(\"\\nOriginal DataFrame 2:\")\n",
    "print(df2)\n",
    "\n",
    "# Add 5000 as bonus to both dataframes\n",
    "df1['Salary'] = df1['Salary'] + 5000\n",
    "df2['Salary'] = df2['Salary'] + 5000\n",
    "\n",
    "# Display the updated dataframes\n",
    "print(\"\\nUpdated DataFrame 1 with Bonus:\")\n",
    "print(df1)\n",
    "print(\"\\nUpdated DataFrame 2 with Bonus:\")\n",
    "print(df2)"
   ]
  },
  {
   "cell_type": "code",
   "execution_count": null,
   "id": "db42cb1c-5b87-4a49-917c-e4407df58952",
   "metadata": {},
   "outputs": [],
   "source": []
  }
 ],
 "metadata": {
  "kernelspec": {
   "display_name": "Python 3 (ipykernel)",
   "language": "python",
   "name": "python3"
  },
  "language_info": {
   "codemirror_mode": {
    "name": "ipython",
    "version": 3
   },
   "file_extension": ".py",
   "mimetype": "text/x-python",
   "name": "python",
   "nbconvert_exporter": "python",
   "pygments_lexer": "ipython3",
   "version": "3.12.4"
  }
 },
 "nbformat": 4,
 "nbformat_minor": 5
}
